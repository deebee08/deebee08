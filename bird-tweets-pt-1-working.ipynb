!pip3 install tweepy
import tweepy
import csv
import pandas as pd

client = tweepy.Client(bearer_token ='BEARER_TOKEN')

query = 'bird hit -is:retweet lang:en'
tweets = client.search_recent_tweets(query=query, tweet_fields=['context_annotations', 'created_at', 'geo'], max_results=100)
tweets_list = []

import csv
import pandas as pd

tweets_list = []



# Loop through tweets and create a list of dictionaries
for tweet in tweets.data:
    tweet_text = tweet.text
    time_created = tweet.created_at
    tweet_geo = tweet.geo if tweet.geo else "Not available"
    
    tweets_list.append({
        'Tweet Text': tweet_text,
        'Time Created': time_created,
        'Tweet Geo': tweet_geo,
    })

# Writing data to CSV file
csv_file = 'bird_tweets.csv'

with open(csv_file, 'w', newline='', encoding='utf-8') as file:
    writer = csv.DictWriter(file, fieldnames=['Tweet Text', 'Time Created', 'Tweet Geo'])
    writer.writeheader()
    writer.writerows(tweets_list)

# Reading the data into a DataFrame
df = pd.read_csv('bird_tweets.csv')

# Perform data cleaning and manipulation 
df.drop_duplicates(subset='Tweet Text', inplace=True)

# Save the cleaned DataFrame to a new CSV file
cleaned_csv_file = 'cleaned_bird_tweets.csv'
df.to_csv(cleaned_csv_file, index=False)

from IPython.display import FileLink

# Assuming you've generated 'cleaned_bird_tweets.csv' as mentioned in the previous code

# Display the link to download the file
FileLink(cleaned_csv_file)

